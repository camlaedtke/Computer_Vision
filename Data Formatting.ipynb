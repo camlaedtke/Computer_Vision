{
 "cells": [
  {
   "cell_type": "code",
   "execution_count": null,
   "metadata": {},
   "outputs": [],
   "source": [
    "import os\n",
    "import sys\n",
    "import cv2\n",
    "import PIL\n",
    "import glob\n",
    "import random\n",
    "import imageio\n",
    "import sklearn\n",
    "import itertools\n",
    "import numpy as np\n",
    "\n",
    "from skimage.transform import resize\n",
    "from skimage.morphology import label\n",
    "\n",
    "import tensorflow as tf\n",
    "from tensorflow.keras.utils import to_categorical\n",
    "from tensorflow.keras.preprocessing.image import ImageDataGenerator, array_to_img, img_to_array, load_img"
   ]
  },
  {
   "cell_type": "code",
   "execution_count": null,
   "metadata": {},
   "outputs": [],
   "source": [
    "def list_files(dir):                                                                                                  \n",
    "    r = []                                                                                                            \n",
    "    subdirs = [x[0] for x in os.walk(dir)]                              \n",
    "    for subdir in subdirs:                                                                                     \n",
    "        files = os.walk(subdir).__next__()[2]                                                                             \n",
    "        if (len(files) > 0):                                                                                          \n",
    "            for file in files:                                       \n",
    "                r.append(os.path.join(subdir, file))                                                                       \n",
    "    return r \n",
    "\n",
    "\n",
    "def populate_directory(input_dir, annotation_dir, image_dir):\n",
    "    \n",
    "    ids_temp = list_files(input_path)\n",
    "    \n",
    "    mask_list = []\n",
    "    for i in ids_temp:\n",
    "        if i.endswith(\"labelIds.png\"):\n",
    "            mask_list.append(i)\n",
    "            \n",
    "    image_list = []\n",
    "    for i in ids_temp:\n",
    "        if i.endswith(\"leftImg8bit.png\"):\n",
    "            image_list.append(i)\n",
    "            \n",
    "                    \n",
    "    for n, mask_id in enumerate(mask_list):\n",
    "        img = load_img(mask_id, color_mode = \"grayscale\")\n",
    "        print(\"\\r saving {} / {}\".format(n+1, len(mask_list)), end='')\n",
    "        \n",
    "        id_temp = mask_id.split(\"\\\\\")\n",
    "        id_temp = id_temp[-1]\n",
    "        \n",
    "        img.save(annotation_dir + id_temp)\n",
    "        \n",
    "        \n",
    "    for n, img_id in enumerate(image_list):\n",
    "        img = load_img(img_id, color_mode = \"rgb\")\n",
    "        print(\"\\r saving {} / {}\".format(n+1, len(image_list)), end='')\n",
    "        \n",
    "        id_temp = img_id.split(\"\\\\\")\n",
    "        id_temp = id_temp[-1]\n",
    "        \n",
    "        img.save(image_dir + id_temp)\n",
    "        \n",
    "    print(\"\\n done!\")"
   ]
  },
  {
   "cell_type": "code",
   "execution_count": null,
   "metadata": {},
   "outputs": [],
   "source": [
    "input_path = \"Cityscapes\\\\coarse_data\"\n",
    "annotation_out_path = \"Cityscapes\\\\coarse\\\\annotations\\\\\"\n",
    "images_out_path = \"Cityscapes\\\\coarse\\\\images\\\\\""
   ]
  },
  {
   "cell_type": "code",
   "execution_count": null,
   "metadata": {},
   "outputs": [],
   "source": [
    "populate_directory(input_dir=input_path, annotation_dir=annotation_out_path, image_dir=images_out_path)"
   ]
  },
  {
   "cell_type": "code",
   "execution_count": null,
   "metadata": {},
   "outputs": [],
   "source": [
    "def normalize_channels(X_train, X_test):\n",
    "    \n",
    "    R_MEAN = np.mean(X_train[:,:,:,0])\n",
    "    G_MEAN = np.mean(X_train[:,:,:,1])\n",
    "    B_MEAN = np.mean(X_train[:,:,:,2])\n",
    "    \n",
    "    print(\"Mean value of first channel: {}\".format(R_MEAN))\n",
    "    print(\"Mean value of second channel: {}\".format(G_MEAN))\n",
    "    print(\"Mean value of third channel: {}\".format(B_MEAN))\n",
    "    \n",
    "    R_STD = np.std(X_train[:,:,:,0])\n",
    "    G_STD = np.std(X_train[:,:,:,1])\n",
    "    B_STD = np.std(X_train[:,:,:,2])\n",
    "    \n",
    "    print(\"Std of first channel: {}\".format(R_STD))\n",
    "    print(\"Std of second channel: {}\".format(G_STD))\n",
    "    print(\"Std of third channel: {}\".format(B_STD))\n",
    "    \n",
    "    X_train[:,:,:,0] -= R_MEAN\n",
    "    X_train[:,:,: 1] -= G_MEAN\n",
    "    X_train[:,:,: 2] -= B_MEAN\n",
    "    \n",
    "    X_train[:,:,:,0] /= R_STD\n",
    "    X_train[:,:,: 1] /= G_STD\n",
    "    X_train[:,:,: 2] /= B_STD\n",
    "    \n",
    "    X_test[:,:,:,0] -= R_MEAN\n",
    "    X_test[:,:,: 1] -= G_MEAN\n",
    "    X_test[:,:,: 2] -= B_MEAN\n",
    "    \n",
    "    X_test[:,:,:,0] /= R_STD\n",
    "    X_test[:,:,: 1] /= G_STD\n",
    "    X_test[:,:,: 2] /= B_STD\n",
    "    \n",
    "    return X_train, X_test"
   ]
  }
 ],
 "metadata": {
  "kernelspec": {
   "display_name": "Python 3",
   "language": "python",
   "name": "python3"
  },
  "language_info": {
   "codemirror_mode": {
    "name": "ipython",
    "version": 3
   },
   "file_extension": ".py",
   "mimetype": "text/x-python",
   "name": "python",
   "nbconvert_exporter": "python",
   "pygments_lexer": "ipython3",
   "version": "3.7.9"
  }
 },
 "nbformat": 4,
 "nbformat_minor": 4
}
